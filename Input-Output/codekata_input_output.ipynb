{
  "nbformat": 4,
  "nbformat_minor": 0,
  "metadata": {
    "colab": {
      "provenance": []
    },
    "kernelspec": {
      "name": "python3",
      "display_name": "Python 3"
    },
    "language_info": {
      "name": "python"
    }
  },
  "cells": [
    {
      "cell_type": "markdown",
      "source": [
        "**QUESTION** **1**"
      ],
      "metadata": {
        "id": "aE6SYOuBenmS"
      }
    },
    {
      "cell_type": "markdown",
      "source": [
        "Write a code to get the input in the given format and print the output in the given format\n",
        "\n",
        "Input Description:\n",
        "To take an integer value\n",
        "\n",
        "Output Description:\n",
        "Print the integer value\n",
        "\n",
        "Sample Input :\n",
        "\n",
        "2\n",
        "\n",
        "Sample Output :\n",
        "\n",
        "2"
      ],
      "metadata": {
        "id": "SmSTi0tcdmBL"
      }
    },
    {
      "cell_type": "markdown",
      "source": [],
      "metadata": {
        "id": "MCtaCkXiemvM"
      }
    },
    {
      "cell_type": "code",
      "execution_count": 1,
      "metadata": {
        "colab": {
          "base_uri": "https://localhost:8080/"
        },
        "id": "DOUA8sjBccs5",
        "outputId": "8a0de091-0d65-4c96-eeb5-7f937c9682ca"
      },
      "outputs": [
        {
          "output_type": "stream",
          "name": "stdout",
          "text": [
            "2\n",
            "2\n"
          ]
        }
      ],
      "source": [
        "a= int(input())\n",
        "print(a)\n",
        "\n",
        "\n",
        "\n",
        "\n"
      ]
    },
    {
      "cell_type": "markdown",
      "source": [
        "**QUESTION 2**"
      ],
      "metadata": {
        "id": "t5vAs0bye0Zu"
      }
    },
    {
      "cell_type": "markdown",
      "source": [
        "Write a code to get the input in the given format and print the output in the given format\n",
        "\n",
        "Input Description:\n",
        "A single line contains integers separated by space\n",
        "\n",
        "Output Description:\n",
        "Print the integer list of integers separated by space\n",
        "\n",
        "Sample Input :\n",
        "\n",
        "2 3 4 5 6 7 8\n",
        "\n",
        "Sample Output :\n",
        "\n",
        "2 3 4 5 6 7 8"
      ],
      "metadata": {
        "id": "P4TqexfBe5MK"
      }
    },
    {
      "cell_type": "code",
      "source": [
        "a= str(input())\n",
        "print(a)"
      ],
      "metadata": {
        "colab": {
          "base_uri": "https://localhost:8080/"
        },
        "id": "Gk9vG0Sud1y1",
        "outputId": "62fa410b-d17c-4b85-d098-071efe147eed"
      },
      "execution_count": 2,
      "outputs": [
        {
          "output_type": "stream",
          "name": "stdout",
          "text": [
            "2 3 4 5 6 7 8\n",
            "2 3 4 5 6 7 8\n"
          ]
        }
      ]
    },
    {
      "cell_type": "markdown",
      "source": [
        "**QUESTION 3**"
      ],
      "metadata": {
        "id": "87jHpNnfe7YO"
      }
    },
    {
      "cell_type": "markdown",
      "source": [
        "Write a code to get the input in the given format and print the output in the given format.\n",
        "\n",
        "Input Description:\n",
        "First-line indicates two integers which are the size of array and 'K' value. Second-line indicates an integer contains elements of an array.\n",
        "\n",
        "Output Description:\n",
        "Print the taken input in the same format.\n",
        "\n",
        "Sample Input :\n",
        "\n",
        "5 3\n",
        "\n",
        "1 2 3 4 5\n",
        "\n",
        "Sample Output :\n",
        "\n",
        "5 3\n",
        "\n",
        "1 2 3 4 5"
      ],
      "metadata": {
        "id": "62PLaa2Le63z"
      }
    },
    {
      "cell_type": "code",
      "source": [
        "a = input()\n",
        "b = input()\n",
        "print(a)\n",
        "print(b)"
      ],
      "metadata": {
        "colab": {
          "base_uri": "https://localhost:8080/"
        },
        "id": "o9FtgkEwe7vU",
        "outputId": "ef3765a9-7360-44ed-a763-d9dc2614ff12"
      },
      "execution_count": 3,
      "outputs": [
        {
          "output_type": "stream",
          "name": "stdout",
          "text": [
            "5 3\n",
            "1 2 3 4 5\n",
            "5 3\n",
            "1 2 3 4 5\n"
          ]
        }
      ]
    },
    {
      "cell_type": "markdown",
      "source": [
        "**QUESTION 4**"
      ],
      "metadata": {
        "id": "gDDGxy6ofpOr"
      }
    },
    {
      "cell_type": "markdown",
      "source": [
        "Write a code to get the input in the given format and print the output in the given format\n",
        "\n",
        "Input Description:\n",
        "First-line indicates two integers separated by space. Second-line indicates two integers separated by space. Third-line indicates two integers separated by space.\n",
        "\n",
        "Output Description:\n",
        "Print the input in the same format.\n",
        "\n",
        "Sample Input :\n",
        "\n",
        "2 4\n",
        "\n",
        "2 4\n",
        "\n",
        "2 4\n",
        "\n",
        "Sample Output :\n",
        "\n",
        "2 4\n",
        "\n",
        "2 4\n",
        "\n",
        "2 4"
      ],
      "metadata": {
        "id": "pPywasyUfpvf"
      }
    },
    {
      "cell_type": "code",
      "source": [
        "a = input()\n",
        "b = input()\n",
        "c= input()\n",
        "print(a)\n",
        "print(b)\n",
        "print(c)"
      ],
      "metadata": {
        "colab": {
          "base_uri": "https://localhost:8080/"
        },
        "id": "DMVpCnlTfqPN",
        "outputId": "4e7d235f-fd23-4543-dce4-eb4fe0c1e622"
      },
      "execution_count": 4,
      "outputs": [
        {
          "output_type": "stream",
          "name": "stdout",
          "text": [
            "2 4\n",
            "2 4\n",
            "2 4\n",
            "2 4\n",
            "2 4\n",
            "2 4\n"
          ]
        }
      ]
    },
    {
      "cell_type": "markdown",
      "source": [
        "**QUESTION 5**"
      ],
      "metadata": {
        "id": "HE4z_iLMgl1G"
      }
    },
    {
      "cell_type": "markdown",
      "source": [
        "Write a code to get the input in the given format and print the output in the given format\n",
        "\n",
        "Input Description:\n",
        "Three integers are given in line by line.\n",
        "\n",
        "Output Description:\n",
        "Print the integers in a single line separate by space.\n",
        "\n",
        "Sample Input :\n",
        "\n",
        "2\n",
        "\n",
        "4\n",
        "\n",
        "5\n",
        "\n",
        "Sample Output :\n",
        "\n",
        "2 4 5"
      ],
      "metadata": {
        "id": "JYSbDAScgmRI"
      }
    },
    {
      "cell_type": "code",
      "source": [
        "a= int(input())\n",
        "b = int(input())\n",
        "c= int(input())\n",
        "print(a , b, c)"
      ],
      "metadata": {
        "colab": {
          "base_uri": "https://localhost:8080/"
        },
        "id": "djJ4pR9Vgmsp",
        "outputId": "0c161e3d-e476-4f40-85fb-1202bc71a656"
      },
      "execution_count": 5,
      "outputs": [
        {
          "output_type": "stream",
          "name": "stdout",
          "text": [
            "2\n",
            "4\n",
            "5\n",
            "2 4 5\n"
          ]
        }
      ]
    },
    {
      "cell_type": "markdown",
      "source": [
        "**QUESTION 6**"
      ],
      "metadata": {
        "id": "PPJuVbKCgnak"
      }
    },
    {
      "cell_type": "markdown",
      "source": [
        "Write a code to get the input in the given format and print the output in the given format\n",
        "\n",
        "Input Description:\n",
        "First-line indicates two integers separated by space. Second-line indicates three integers separated by space. Third-line indicates three integers separated by space\n",
        "\n",
        "Output Description:\n",
        "Print the input in the same format.\n",
        "\n",
        "Sample Input :\n",
        "\n",
        "2 5\n",
        "\n",
        "2 5 6\n",
        "\n",
        "2 4 5\n",
        "\n",
        "Sample Output :\n",
        "\n",
        "2 5\n",
        "\n",
        "2 5 6\n",
        "\n",
        "2 4 5"
      ],
      "metadata": {
        "id": "HrKXazDNgn1a"
      }
    },
    {
      "cell_type": "code",
      "source": [
        "a = input()\n",
        "b= input()\n",
        "c= input()\n",
        "print(a)\n",
        "print(b)\n",
        "print(c)"
      ],
      "metadata": {
        "colab": {
          "base_uri": "https://localhost:8080/"
        },
        "id": "6Qf_kxXBgoR0",
        "outputId": "9cbfc42e-fc52-4db7-8345-032e200f9f1a"
      },
      "execution_count": 6,
      "outputs": [
        {
          "output_type": "stream",
          "name": "stdout",
          "text": [
            "2 5\n",
            "2 5 6\n",
            "2 4 5\n",
            "2 5\n",
            "2 5 6\n",
            "2 4 5\n"
          ]
        }
      ]
    },
    {
      "cell_type": "markdown",
      "source": [
        "**QUESTION 7**"
      ],
      "metadata": {
        "id": "U2jqYnu6gosS"
      }
    },
    {
      "cell_type": "markdown",
      "source": [
        "Write a code to get the input in the given format and print the output in the given format\n",
        "\n",
        "Input Description:\n",
        "A single line contains a string.\n",
        "\n",
        "Output Description:\n",
        "Print the characters in a string separated by space.\n",
        "\n",
        "Sample Input :\n",
        "\n",
        "guvi\n",
        "\n",
        "Sample Output :\n",
        "\n",
        "g u v i"
      ],
      "metadata": {
        "id": "zzX6kjZlgpJs"
      }
    },
    {
      "cell_type": "code",
      "source": [
        "a= input()\n",
        "print(*a)"
      ],
      "metadata": {
        "colab": {
          "base_uri": "https://localhost:8080/"
        },
        "id": "vmoTmAo5gpqP",
        "outputId": "f75e6efc-6ca2-4603-f1ce-70969c440d7c"
      },
      "execution_count": 7,
      "outputs": [
        {
          "output_type": "stream",
          "name": "stdout",
          "text": [
            "guvi\n",
            "g u v i\n"
          ]
        }
      ]
    },
    {
      "cell_type": "markdown",
      "source": [
        "**QUESTION 8**"
      ],
      "metadata": {
        "id": "Dq0WWV0Bg5Cu"
      }
    },
    {
      "cell_type": "markdown",
      "source": [
        "Write a code to get the input in the given format and print the output in the given format.\n",
        "\n",
        "Input Description:\n",
        "A single line contains three float values separated by space.\n",
        "\n",
        "Output Description:\n",
        "Print the float value separated by line.\n",
        "\n",
        "Sample Input :\n",
        "\n",
        "2.3 4.5 7.8\n",
        "\n",
        "Sample Output :\n",
        "\n",
        "2.3\n",
        "\n",
        "4.5\n",
        "\n",
        "7.8"
      ],
      "metadata": {
        "id": "k7lDANLHg6yN"
      }
    },
    {
      "cell_type": "code",
      "source": [
        "\n",
        "\n",
        "a= input().split(' ')\n",
        "print('\\n'.join(a))\n"
      ],
      "metadata": {
        "colab": {
          "base_uri": "https://localhost:8080/"
        },
        "id": "Chas76JVg7Q6",
        "outputId": "16a11aca-8b12-46bc-b607-6aafc55e4b6c"
      },
      "execution_count": 8,
      "outputs": [
        {
          "output_type": "stream",
          "name": "stdout",
          "text": [
            "2.3 4.5 7.8\n",
            "2.3\n",
            "4.5\n",
            "7.8\n"
          ]
        }
      ]
    },
    {
      "cell_type": "markdown",
      "source": [
        "**QUESTION 9**"
      ],
      "metadata": {
        "id": "KgyVtjXvg7y5"
      }
    },
    {
      "cell_type": "markdown",
      "source": [
        "Write a code to get the input in the given format and print the output in the given format.\n",
        "\n",
        "Input Description:\n",
        "A single line contains a string.\n",
        "\n",
        "Output Description:\n",
        "Print the characters in a string separated by line.\n",
        "\n",
        "Sample Input :\n",
        "\n",
        "guvigeek\n",
        "\n",
        "Sample Output :\n",
        "\n",
        "g\n",
        "\n",
        "u\n",
        "\n",
        "v\n",
        "\n",
        "i\n",
        "\n",
        "g\n",
        "\n",
        "e\n",
        "\n",
        "e\n",
        "\n",
        "k"
      ],
      "metadata": {
        "id": "SECs8PwBg988"
      }
    },
    {
      "cell_type": "code",
      "source": [
        "a= input()\n",
        "print('\\n'.join(a))"
      ],
      "metadata": {
        "colab": {
          "base_uri": "https://localhost:8080/"
        },
        "id": "grUy_7Y5g-b5",
        "outputId": "acddca15-9819-4856-a008-bcd4ca7b14da"
      },
      "execution_count": 9,
      "outputs": [
        {
          "output_type": "stream",
          "name": "stdout",
          "text": [
            "guvigeek\n",
            "g\n",
            "u\n",
            "v\n",
            "i\n",
            "g\n",
            "e\n",
            "e\n",
            "k\n"
          ]
        }
      ]
    },
    {
      "cell_type": "markdown",
      "source": [
        "**QUESTION 10**"
      ],
      "metadata": {
        "id": "H7cImdheg-_Z"
      }
    },
    {
      "cell_type": "markdown",
      "source": [
        "Write a code to get the input in the given format and print the output in the given format.\n",
        "\n",
        "Input Description:\n",
        "A single line contains a string.\n",
        "\n",
        "Output Description:\n",
        "Print the characters in a string separated by comma.\n",
        "\n",
        "Sample Input :\n",
        "\n",
        "guvi\n",
        "\n",
        "Sample Output :\n",
        "\n",
        "g,u,v,i"
      ],
      "metadata": {
        "id": "mt1wH59hhAmU"
      }
    },
    {
      "cell_type": "code",
      "source": [
        "a= input()\n",
        "print(','.join(a))"
      ],
      "metadata": {
        "colab": {
          "base_uri": "https://localhost:8080/"
        },
        "id": "xTbEYGJLhBDl",
        "outputId": "5ccd620c-e7cb-4a28-bf00-1bdb5accd34e"
      },
      "execution_count": 10,
      "outputs": [
        {
          "output_type": "stream",
          "name": "stdout",
          "text": [
            "guvi\n",
            "g,u,v,i\n"
          ]
        }
      ]
    },
    {
      "cell_type": "code",
      "source": [],
      "metadata": {
        "id": "L-OQswT9j2-h"
      },
      "execution_count": null,
      "outputs": []
    }
  ]
}