{
 "cells": [
  {
   "cell_type": "markdown",
   "id": "9b07062c",
   "metadata": {},
   "source": [
    "by Vinodhini Rajamananickam"
   ]
  },
  {
   "cell_type": "markdown",
   "id": "955b972d",
   "metadata": {},
   "source": [
    "##### QUESTION 1"
   ]
  },
  {
   "cell_type": "markdown",
   "id": "a515090b",
   "metadata": {},
   "source": [
    "You are given with a number \"N\", find its cube.\n",
    "\n",
    "Input Description:\n",
    "A positive integer is provided.\n",
    "\n",
    "Output Description:\n",
    "Find the cube of the number.\n",
    "\n",
    "Sample Input :\n",
    "\n",
    "2\n",
    "\n",
    "Sample Output :\n",
    "\n",
    "8"
   ]
  },
  {
   "cell_type": "code",
   "execution_count": 3,
   "id": "d5026578",
   "metadata": {},
   "outputs": [
    {
     "name": "stdout",
     "output_type": "stream",
     "text": [
      "2\n",
      "8\n"
     ]
    }
   ],
   "source": [
    "a= int(input())\n",
    "b= a**3\n",
    "print(b)"
   ]
  },
  {
   "cell_type": "markdown",
   "id": "2fac7863",
   "metadata": {},
   "source": [
    "##### QUESTION 2"
   ]
  },
  {
   "cell_type": "markdown",
   "id": "16050743",
   "metadata": {},
   "source": [
    "You are given a number A in Kilometers. Convert this into B: Meters and C: Centi-Metres.\n",
    "\n",
    "Input Description:\n",
    "A number \"A\" representing some distance in kilometer is provided to you as the input.\n",
    "\n",
    "Output Description:\n",
    "Convert and print this value in meters and centimeters.\n",
    "\n",
    "Sample Input :\n",
    "\n",
    "2\n",
    "\n",
    "Sample Output :\n",
    "\n",
    "2000\n",
    "\n",
    "200000"
   ]
  },
  {
   "cell_type": "code",
   "execution_count": 5,
   "id": "4c772b81",
   "metadata": {},
   "outputs": [
    {
     "name": "stdout",
     "output_type": "stream",
     "text": [
      "2\n",
      "2000\n",
      "200000\n"
     ]
    }
   ],
   "source": [
    "A= int(input())\n",
    "B= A*1000\n",
    "C= A*100000\n",
    "print(B)\n",
    "print(C)"
   ]
  },
  {
   "cell_type": "markdown",
   "id": "b5da1e42",
   "metadata": {},
   "source": [
    "##### QUESTION 3"
   ]
  },
  {
   "cell_type": "markdown",
   "id": "84834c37",
   "metadata": {},
   "source": [
    "You are provided with a number, \"N\". Find its factorial.\n",
    "\n",
    "Input Description:\n",
    "A positive integer is provided as an input.\n",
    "\n",
    "Output Description:\n",
    "Print the factorial of the integer.\n",
    "\n",
    "Sample Input :\n",
    "\n",
    "2\n",
    "\n",
    "Sample Output :\n",
    "\n",
    "2"
   ]
  },
  {
   "cell_type": "code",
   "execution_count": 6,
   "id": "9bc6614d",
   "metadata": {},
   "outputs": [
    {
     "name": "stdout",
     "output_type": "stream",
     "text": [
      "2\n",
      "2\n"
     ]
    }
   ],
   "source": [
    "import math\n",
    "a= int(input())\n",
    "b= math.factorial(a)\n",
    "print(b)"
   ]
  },
  {
   "cell_type": "markdown",
   "id": "dc179c1b",
   "metadata": {},
   "source": [
    "##### QUESTION 4"
   ]
  },
  {
   "cell_type": "markdown",
   "id": "36e08099",
   "metadata": {},
   "source": [
    "You will be provided with a number. Print the number of days in the month corresponding to that number.\n",
    "\n",
    "Note: In case the input is February, print 28 days. If the Input is not in valid range print \"Error\".\n",
    "\n",
    "Input Description:\n",
    "The input is in the form of a number.\n",
    "\n",
    "Output Description:\n",
    "Find the days in the month corresponding to the input number. Print Error if the input is not in a valid range.\n",
    "\n",
    "Sample Input :\n",
    "    \n",
    "8\n",
    "\n",
    "Sample Output :\n",
    "    \n",
    "31"
   ]
  },
  {
   "cell_type": "code",
   "execution_count": 7,
   "id": "ca097a4a",
   "metadata": {},
   "outputs": [
    {
     "name": "stdout",
     "output_type": "stream",
     "text": [
      "8\n",
      "31\n"
     ]
    }
   ],
   "source": [
    "a= int(input())\n",
    "if a==1 or a==3 or a==5 or a==7 or a==8 or a==10 or a==12:\n",
    "    print(31)\n",
    "elif a==4 or a==6 or a==9 or a==11:\n",
    "    print(30)\n",
    "elif a==2:\n",
    "    print(28)\n",
    "else:\n",
    "    print(\"Error\")"
   ]
  },
  {
   "cell_type": "markdown",
   "id": "9c634c89",
   "metadata": {},
   "source": [
    "##### QUESTION 5"
   ]
  },
  {
   "cell_type": "markdown",
   "id": "c3e65cce",
   "metadata": {},
   "source": [
    "Print the First 3 multiples of the given number \"N\". (N is a positive integer)\n",
    "\n",
    "Note: print the characters with a single space between them.\n",
    "\n",
    "Input Description:\n",
    "A positive integer is provided to you as an input.\n",
    "\n",
    "Output Description:\n",
    "Print the First 3 multiples of the number with single spaces between them as an output.\n",
    "\n",
    "Sample Input :\n",
    "\n",
    "2\n",
    "\n",
    "Sample Output :\n",
    "\n",
    "2 4 6"
   ]
  },
  {
   "cell_type": "code",
   "execution_count": 8,
   "id": "baaf4755",
   "metadata": {},
   "outputs": [
    {
     "name": "stdout",
     "output_type": "stream",
     "text": [
      "2\n",
      "2 4 6\n"
     ]
    }
   ],
   "source": [
    "a= int(input())\n",
    "b= a*1\n",
    "c= a*2\n",
    "d= a*3\n",
    "print(b,c,d)"
   ]
  },
  {
   "cell_type": "markdown",
   "id": "ce1a1080",
   "metadata": {},
   "source": [
    "##### QUESTION 6"
   ]
  },
  {
   "cell_type": "markdown",
   "id": "ee0f9ebb",
   "metadata": {},
   "source": [
    "You are given with a number A i.e. the temperature in Celcius. Write a program to convert this into Fahrenheit. \n",
    "\n",
    "Note: In case of decimal values, round-off to two decimal places.\n",
    "\n",
    "Input Description:\n",
    "A number is provided in Celcius as the input of the program.\n",
    "\n",
    "Output Description:\n",
    "The output shall be the temperature converted into Fahrenheit corresponding to the input value print up to two decimal places and round off if required.\n",
    "\n",
    "Sample Input :\n",
    "    \n",
    "12\n",
    "\n",
    "Sample Output :\n",
    "    \n",
    "53.60"
   ]
  },
  {
   "cell_type": "code",
   "execution_count": 9,
   "id": "da9a5bcd",
   "metadata": {},
   "outputs": [
    {
     "name": "stdout",
     "output_type": "stream",
     "text": [
      "12\n",
      "53.60\n"
     ]
    }
   ],
   "source": [
    "A = int(input())\n",
    "b = (A*1.8) + 32\n",
    "print(\"%.2f\" %b)"
   ]
  },
  {
   "cell_type": "markdown",
   "id": "1b9065cd",
   "metadata": {},
   "source": [
    "##### QUESTION 7"
   ]
  },
  {
   "cell_type": "markdown",
   "id": "33e61990",
   "metadata": {},
   "source": [
    "The area of an equilateral triangle is ¼(√3a2) where \"a\" represents a side of the triangle. You are provided with the side \"a\". Find the area of the equilateral triangle.\n",
    "\n",
    "Input Description:\n",
    "The side of an equilateral triangle is provided as the input.\n",
    "\n",
    "Output Description:\n",
    "Find the area of the equilateral triangle and print the answer up to 2 decimal places after rounding off.\n",
    "\n",
    "Sample Input :\n",
    "\n",
    "20\n",
    "\n",
    "Sample Output :\n",
    "\n",
    "173.21"
   ]
  },
  {
   "cell_type": "code",
   "execution_count": 10,
   "id": "40ab9678",
   "metadata": {},
   "outputs": [
    {
     "name": "stdout",
     "output_type": "stream",
     "text": [
      "20\n",
      "173.21\n"
     ]
    }
   ],
   "source": [
    "import math\n",
    "\n",
    "\n",
    "a= int(input())\n",
    "b= ( math.sqrt(3)/4)*(a*a)\n",
    "print(\"%.2f\" %b)"
   ]
  },
  {
   "cell_type": "markdown",
   "id": "868c0d9f",
   "metadata": {},
   "source": [
    "##### QUESTION 8"
   ]
  },
  {
   "cell_type": "markdown",
   "id": "56a6c4a4",
   "metadata": {},
   "source": [
    "You are given with Principle amount($), Interest Rate(%) and Time (years) in that order. Find Simple Interest.\n",
    "\n",
    "Print the output up to two decimal places (Round-off if necessary).\n",
    "\n",
    "(S.I. = P*T*R/100)\n",
    "\n",
    "Input Description:\n",
    "Three values are given to you as the input. these values correspond to Principle amount, Interest Rate and Time in that particular order.\n",
    "\n",
    "Output Description:\n",
    "Find the Simple interest and print it up to two decimal places. Round off if required.\n",
    "\n",
    "Sample Input :\n",
    "    \n",
    "1000 2 5\n",
    "\n",
    "Sample Output :\n",
    "    \n",
    "100.00"
   ]
  },
  {
   "cell_type": "code",
   "execution_count": 11,
   "id": "8d5cb3f0",
   "metadata": {},
   "outputs": [
    {
     "name": "stdout",
     "output_type": "stream",
     "text": [
      "1000 2 5\n",
      "100.00\n"
     ]
    }
   ],
   "source": [
    "p,t,r= map(float,input().split())\n",
    "a = p*t*r\n",
    "b= a/100\n",
    "print(f\"{b:.2f}\")"
   ]
  },
  {
   "cell_type": "markdown",
   "id": "85d0dc46",
   "metadata": {},
   "source": [
    "##### QUESTION 9"
   ]
  },
  {
   "cell_type": "markdown",
   "id": "63a52da0",
   "metadata": {},
   "source": [
    "Using the method of looping, write a program to print the table of 9 till N in the format as follows:\n",
    "(N is input by the user)\n",
    "\n",
    "9 18 27...\n",
    "\n",
    "Print NULL if 0 is input\n",
    "\n",
    "Input Description:\n",
    "A positive integer is provided as an input.\n",
    "\n",
    "Output Description:\n",
    "Print the table of nine with single space between the elements till the number that is input.\n",
    "\n",
    "Sample Input :\n",
    "\n",
    "3\n",
    "\n",
    "Sample Output :\n",
    "\n",
    "9 18 27"
   ]
  },
  {
   "cell_type": "code",
   "execution_count": 12,
   "id": "f4e22cf0",
   "metadata": {},
   "outputs": [
    {
     "name": "stdout",
     "output_type": "stream",
     "text": [
      "3\n",
      "9 18 27\n"
     ]
    }
   ],
   "source": [
    "a = int(input())\n",
    "b= []\n",
    "for i in range(1,a+1):\n",
    "    c=i*9\n",
    "    b.append(c)\n",
    "print(*b)"
   ]
  },
  {
   "cell_type": "markdown",
   "id": "cc405680",
   "metadata": {},
   "source": [
    "##### QUESTION 10"
   ]
  },
  {
   "cell_type": "markdown",
   "id": "9a8e216c",
   "metadata": {},
   "source": [
    "You are given the coefficients of a quadratic equation in order A, B & C.\n",
    "\n",
    "Where A is the coefficient of X2,  B is the coefficient of X and C is the constant term in the most simplified form.\n",
    "\n",
    "Example: For  X2 + 5X + 6 = 0, you are given the input as: 1 5 6.\n",
    "\n",
    "Write a program to find all of the roots of the quadratic.\n",
    "\n",
    "Note: The output should be up to 2nd decimal place (round off if needed) and in case of a recurring decimal use braces i.e. for eg: 0.33333..... => 0.33.\n",
    "\n",
    "Note: Use Shri Dharacharya's Method to solve i.e. X = {-b + √(b² - 4ac) } / 2a & {-b-√(b² -4ac)} / 2a\n",
    "\n",
    "Input Description:\n",
    "Three numbers corresponding to the coefficients of x(squared), x and constant are given as an input in that particular order\n",
    "\n",
    "Output Description:\n",
    "Print the two values of X after rounding off to 2 decimal places if required.\n",
    "\n",
    "Sample Input :\n",
    "\n",
    "1 5 6\n",
    "\n",
    "Sample Output :\n",
    "\n",
    "-2.00\n",
    "-3.00"
   ]
  },
  {
   "cell_type": "code",
   "execution_count": 13,
   "id": "f86ab0a5",
   "metadata": {},
   "outputs": [
    {
     "name": "stdout",
     "output_type": "stream",
     "text": [
      "1 5 6\n",
      "-2.00\n",
      "-3.00\n"
     ]
    }
   ],
   "source": [
    "import cmath\n",
    "\n",
    "a, b, c = map(int,input().split())\n",
    "\n",
    "ans1 = ((-b) + cmath.sqrt(b**2 - 4*a*c))/(2*a)\n",
    "ans2 = ((-b) - cmath.sqrt(b**2 - 4*a*c))/(2*a) \n",
    "\n",
    "print(\"{:.2f}\".format(ans1.real))\n",
    "print(\"{:.2f}\".format(ans2.real))"
   ]
  },
  {
   "cell_type": "code",
   "execution_count": null,
   "id": "32c8d34b",
   "metadata": {},
   "outputs": [],
   "source": []
  }
 ],
 "metadata": {
  "kernelspec": {
   "display_name": "Python 3 (ipykernel)",
   "language": "python",
   "name": "python3"
  },
  "language_info": {
   "codemirror_mode": {
    "name": "ipython",
    "version": 3
   },
   "file_extension": ".py",
   "mimetype": "text/x-python",
   "name": "python",
   "nbconvert_exporter": "python",
   "pygments_lexer": "ipython3",
   "version": "3.9.12"
  }
 },
 "nbformat": 4,
 "nbformat_minor": 5
}
